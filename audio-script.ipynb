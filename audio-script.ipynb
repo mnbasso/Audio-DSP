{
 "cells": [
  {
   "cell_type": "markdown",
   "id": "74f6f518-60bc-49db-930e-50f07ae0331e",
   "metadata": {},
   "source": [
    "# Audio Signal Processing for Machine Learning"
   ]
  },
  {
   "cell_type": "markdown",
   "id": "9c7cd33c-8a18-44b6-9ee5-2aae93045409",
   "metadata": {},
   "source": [
    "Tutorial obtianed from: https://youtube.com/playlist?list=PL-wATfeyAMNqIee7cH3q1bh4QJFAaeNv0\n"
   ]
  },
  {
   "cell_type": "markdown",
   "id": "963c7963-ee38-4b66-b94e-13f988d916e8",
   "metadata": {},
   "source": [
    "## Fourier Transform"
   ]
  },
  {
   "cell_type": "code",
   "execution_count": null,
   "id": "2a0801b5-f7e7-4310-b7fc-88e091c0d2e1",
   "metadata": {},
   "outputs": [],
   "source": [
    "import librosa\n",
    "import librosa.display\n",
    "import scipy as sp\n",
    "import IPython.display as ipd\n",
    "import matplotlib.pyplot as plt\n",
    "import numpy as np"
   ]
  },
  {
   "cell_type": "code",
   "execution_count": null,
   "id": "2ec44160-813c-4433-9191-66217735fee3",
   "metadata": {},
   "outputs": [],
   "source": [
    "# load audio file in the player\n",
    "audio_path = \"audio/piano_c.wav\"\n",
    "ipd.Audio(audio_path)"
   ]
  },
  {
   "cell_type": "code",
   "execution_count": null,
   "id": "10ba4cbf-7f33-4fd3-a9d7-bc5b5e6a5e6a",
   "metadata": {},
   "outputs": [],
   "source": [
    "# load audio file\n",
    "signal, sr = librosa.load(audio_path)"
   ]
  },
  {
   "cell_type": "code",
   "execution_count": null,
   "id": "121e2399-a5d3-469c-9deb-43a682f8f445",
   "metadata": {},
   "outputs": [],
   "source": []
  },
  {
   "cell_type": "code",
   "execution_count": null,
   "id": "edb8f029-3421-4677-9719-d8e318e87234",
   "metadata": {},
   "outputs": [],
   "source": []
  },
  {
   "cell_type": "code",
   "execution_count": null,
   "id": "3a4b187a-076c-4f1a-a44d-f4367628d2fe",
   "metadata": {},
   "outputs": [],
   "source": []
  },
  {
   "cell_type": "code",
   "execution_count": null,
   "id": "cba470bb-d36e-4167-bac8-bfc8df1f879a",
   "metadata": {},
   "outputs": [],
   "source": []
  }
 ],
 "metadata": {
  "kernelspec": {
   "display_name": "Python 3 (ipykernel)",
   "language": "python",
   "name": "python3"
  },
  "language_info": {
   "name": ""
  },
  "toc-autonumbering": true,
  "toc-showmarkdowntxt": true
 },
 "nbformat": 4,
 "nbformat_minor": 5
}
